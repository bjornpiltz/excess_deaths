{
 "cells": [
  {
   "cell_type": "markdown",
   "metadata": {},
   "source": [
    "# Merge the data\n",
    "Create the `data/us_excess_per_age_group.rds` data frame."
   ]
  },
  {
   "cell_type": "code",
   "execution_count": 1,
   "metadata": {
    "ExecuteTime": {
     "end_time": "2022-04-21T22:34:29.753574Z",
     "start_time": "2022-04-21T22:34:24.298Z"
    }
   },
   "outputs": [
    {
     "name": "stderr",
     "output_type": "stream",
     "text": [
      "── \u001b[1mAttaching packages\u001b[22m ─────────────────────────────────────── tidyverse 1.3.1 ──\n",
      "\n",
      "\u001b[32m✔\u001b[39m \u001b[34mggplot2\u001b[39m 3.3.5     \u001b[32m✔\u001b[39m \u001b[34mpurrr  \u001b[39m 0.3.4\n",
      "\u001b[32m✔\u001b[39m \u001b[34mtibble \u001b[39m 3.1.6     \u001b[32m✔\u001b[39m \u001b[34mdplyr  \u001b[39m 1.0.8\n",
      "\u001b[32m✔\u001b[39m \u001b[34mtidyr  \u001b[39m 1.2.0     \u001b[32m✔\u001b[39m \u001b[34mstringr\u001b[39m 1.4.0\n",
      "\u001b[32m✔\u001b[39m \u001b[34mreadr  \u001b[39m 2.1.2     \u001b[32m✔\u001b[39m \u001b[34mforcats\u001b[39m 0.5.1\n",
      "\n",
      "── \u001b[1mConflicts\u001b[22m ────────────────────────────────────────── tidyverse_conflicts() ──\n",
      "\u001b[31m✖\u001b[39m \u001b[34mdplyr\u001b[39m::\u001b[32mfilter()\u001b[39m masks \u001b[34mstats\u001b[39m::filter()\n",
      "\u001b[31m✖\u001b[39m \u001b[34mdplyr\u001b[39m::\u001b[32mlag()\u001b[39m    masks \u001b[34mstats\u001b[39m::lag()\n",
      "\n"
     ]
    },
    {
     "data": {
      "text/html": [
       "<table class=\"dataframe\">\n",
       "<caption>A tibble: 6 × 7</caption>\n",
       "<thead>\n",
       "\t<tr><th scope=col>Jurisdiction</th><th scope=col>Year</th><th scope=col>Age Group</th><th scope=col>Week</th><th scope=col>Number of Deaths</th><th scope=col>Type</th><th scope=col>Date</th></tr>\n",
       "\t<tr><th scope=col>&lt;chr&gt;</th><th scope=col>&lt;dbl&gt;</th><th scope=col>&lt;chr&gt;</th><th scope=col>&lt;dbl&gt;</th><th scope=col>&lt;dbl&gt;</th><th scope=col>&lt;chr&gt;</th><th scope=col>&lt;date&gt;</th></tr>\n",
       "</thead>\n",
       "<tbody>\n",
       "\t<tr><td>Alabama</td><td>2015</td><td>&lt;65</td><td>1</td><td>345</td><td>Observed</td><td>2015-01-04</td></tr>\n",
       "\t<tr><td>Alabama</td><td>2015</td><td>&lt;65</td><td>2</td><td>333</td><td>Observed</td><td>2015-01-11</td></tr>\n",
       "\t<tr><td>Alabama</td><td>2015</td><td>&lt;65</td><td>3</td><td>303</td><td>Observed</td><td>2015-01-18</td></tr>\n",
       "\t<tr><td>Alabama</td><td>2015</td><td>&lt;65</td><td>4</td><td>294</td><td>Observed</td><td>2015-01-25</td></tr>\n",
       "\t<tr><td>Alabama</td><td>2015</td><td>&lt;65</td><td>5</td><td>316</td><td>Observed</td><td>2015-02-01</td></tr>\n",
       "\t<tr><td>Alabama</td><td>2015</td><td>&lt;65</td><td>6</td><td>291</td><td>Observed</td><td>2015-02-08</td></tr>\n",
       "</tbody>\n",
       "</table>\n"
      ],
      "text/latex": [
       "A tibble: 6 × 7\n",
       "\\begin{tabular}{lllllll}\n",
       " Jurisdiction & Year & Age Group & Week & Number of Deaths & Type & Date\\\\\n",
       " <chr> & <dbl> & <chr> & <dbl> & <dbl> & <chr> & <date>\\\\\n",
       "\\hline\n",
       "\t Alabama & 2015 & <65 & 1 & 345 & Observed & 2015-01-04\\\\\n",
       "\t Alabama & 2015 & <65 & 2 & 333 & Observed & 2015-01-11\\\\\n",
       "\t Alabama & 2015 & <65 & 3 & 303 & Observed & 2015-01-18\\\\\n",
       "\t Alabama & 2015 & <65 & 4 & 294 & Observed & 2015-01-25\\\\\n",
       "\t Alabama & 2015 & <65 & 5 & 316 & Observed & 2015-02-01\\\\\n",
       "\t Alabama & 2015 & <65 & 6 & 291 & Observed & 2015-02-08\\\\\n",
       "\\end{tabular}\n"
      ],
      "text/markdown": [
       "\n",
       "A tibble: 6 × 7\n",
       "\n",
       "| Jurisdiction &lt;chr&gt; | Year &lt;dbl&gt; | Age Group &lt;chr&gt; | Week &lt;dbl&gt; | Number of Deaths &lt;dbl&gt; | Type &lt;chr&gt; | Date &lt;date&gt; |\n",
       "|---|---|---|---|---|---|---|\n",
       "| Alabama | 2015 | &lt;65 | 1 | 345 | Observed | 2015-01-04 |\n",
       "| Alabama | 2015 | &lt;65 | 2 | 333 | Observed | 2015-01-11 |\n",
       "| Alabama | 2015 | &lt;65 | 3 | 303 | Observed | 2015-01-18 |\n",
       "| Alabama | 2015 | &lt;65 | 4 | 294 | Observed | 2015-01-25 |\n",
       "| Alabama | 2015 | &lt;65 | 5 | 316 | Observed | 2015-02-01 |\n",
       "| Alabama | 2015 | &lt;65 | 6 | 291 | Observed | 2015-02-08 |\n",
       "\n"
      ],
      "text/plain": [
       "  Jurisdiction Year Age Group Week Number of Deaths Type     Date      \n",
       "1 Alabama      2015 <65       1    345              Observed 2015-01-04\n",
       "2 Alabama      2015 <65       2    333              Observed 2015-01-11\n",
       "3 Alabama      2015 <65       3    303              Observed 2015-01-18\n",
       "4 Alabama      2015 <65       4    294              Observed 2015-01-25\n",
       "5 Alabama      2015 <65       5    316              Observed 2015-02-01\n",
       "6 Alabama      2015 <65       6    291              Observed 2015-02-08"
      ]
     },
     "metadata": {},
     "output_type": "display_data"
    }
   ],
   "source": [
    "library(tidyverse)\n",
    "\n",
    "df <-\n",
    "  rbind(read_csv(\"data/tidy_deaths_age_state_CDC.csv\", show_col_types = FALSE)%>%\n",
    "          mutate(Type = \"Observed\"), \n",
    "        read_csv(\"data/tidy_predicted_deaths_age_state_CDC.csv\", show_col_types = FALSE)%>%\n",
    "          mutate(Type = \"Predicted\"))%>%\n",
    "  mutate(Date = ISOweek::ISOweek2date(paste0(Year, \"-W\", str_pad(Week, 2, pad = \"0\"), \"-7\")))\n",
    "\n",
    "head(df)"
   ]
  },
  {
   "cell_type": "markdown",
   "metadata": {},
   "source": [
    "# Read population data\n",
    "For the age normalization we need the following fields:\n",
    "* __Population__: The population of the age group for the state\n",
    "* __Population_all_ages__: The population of the entire state\n",
    "* __Population_age_group_nation__: The population of the age group for the entire nation"
   ]
  },
  {
   "cell_type": "code",
   "execution_count": 3,
   "metadata": {
    "ExecuteTime": {
     "end_time": "2022-04-21T22:36:18.304313Z",
     "start_time": "2022-04-21T22:36:16.806Z"
    }
   },
   "outputs": [
    {
     "data": {
      "text/html": [
       "<table class=\"dataframe\">\n",
       "<caption>A data.frame: 6 × 10</caption>\n",
       "<thead>\n",
       "\t<tr><th></th><th scope=col>Jurisdiction</th><th scope=col>Age Group</th><th scope=col>Year</th><th scope=col>Week</th><th scope=col>Number of Deaths</th><th scope=col>Type</th><th scope=col>Date</th><th scope=col>Population</th><th scope=col>Population_all_ages</th><th scope=col>Population_age_group_nation</th></tr>\n",
       "\t<tr><th></th><th scope=col>&lt;chr&gt;</th><th scope=col>&lt;chr&gt;</th><th scope=col>&lt;dbl&gt;</th><th scope=col>&lt;dbl&gt;</th><th scope=col>&lt;dbl&gt;</th><th scope=col>&lt;chr&gt;</th><th scope=col>&lt;date&gt;</th><th scope=col>&lt;dbl&gt;</th><th scope=col>&lt;dbl&gt;</th><th scope=col>&lt;dbl&gt;</th></tr>\n",
       "</thead>\n",
       "<tbody>\n",
       "\t<tr><th scope=row>1</th><td>Alabama</td><td>&lt;65</td><td>2018</td><td>37</td><td>285.3385</td><td>Predicted</td><td>2018-09-16</td><td>4033195</td><td>4907439</td><td>272637837</td></tr>\n",
       "\t<tr><th scope=row>2</th><td>Alabama</td><td>&lt;65</td><td>2018</td><td>38</td><td>288.3385</td><td>Predicted</td><td>2018-09-23</td><td>4033195</td><td>4907439</td><td>272637837</td></tr>\n",
       "\t<tr><th scope=row>3</th><td>Alabama</td><td>&lt;65</td><td>2018</td><td>35</td><td>288.1385</td><td>Predicted</td><td>2018-09-02</td><td>4033195</td><td>4907439</td><td>272637837</td></tr>\n",
       "\t<tr><th scope=row>4</th><td>Alabama</td><td>&lt;65</td><td>2018</td><td>36</td><td>288.1385</td><td>Predicted</td><td>2018-09-09</td><td>4033195</td><td>4907439</td><td>272637837</td></tr>\n",
       "\t<tr><th scope=row>5</th><td>Alabama</td><td>&lt;65</td><td>2018</td><td>50</td><td>311.9385</td><td>Predicted</td><td>2018-12-16</td><td>4033195</td><td>4907439</td><td>272637837</td></tr>\n",
       "\t<tr><th scope=row>6</th><td>Alabama</td><td>&lt;65</td><td>2018</td><td>51</td><td>320.3385</td><td>Predicted</td><td>2018-12-23</td><td>4033195</td><td>4907439</td><td>272637837</td></tr>\n",
       "</tbody>\n",
       "</table>\n"
      ],
      "text/latex": [
       "A data.frame: 6 × 10\n",
       "\\begin{tabular}{r|llllllllll}\n",
       "  & Jurisdiction & Age Group & Year & Week & Number of Deaths & Type & Date & Population & Population\\_all\\_ages & Population\\_age\\_group\\_nation\\\\\n",
       "  & <chr> & <chr> & <dbl> & <dbl> & <dbl> & <chr> & <date> & <dbl> & <dbl> & <dbl>\\\\\n",
       "\\hline\n",
       "\t1 & Alabama & <65 & 2018 & 37 & 285.3385 & Predicted & 2018-09-16 & 4033195 & 4907439 & 272637837\\\\\n",
       "\t2 & Alabama & <65 & 2018 & 38 & 288.3385 & Predicted & 2018-09-23 & 4033195 & 4907439 & 272637837\\\\\n",
       "\t3 & Alabama & <65 & 2018 & 35 & 288.1385 & Predicted & 2018-09-02 & 4033195 & 4907439 & 272637837\\\\\n",
       "\t4 & Alabama & <65 & 2018 & 36 & 288.1385 & Predicted & 2018-09-09 & 4033195 & 4907439 & 272637837\\\\\n",
       "\t5 & Alabama & <65 & 2018 & 50 & 311.9385 & Predicted & 2018-12-16 & 4033195 & 4907439 & 272637837\\\\\n",
       "\t6 & Alabama & <65 & 2018 & 51 & 320.3385 & Predicted & 2018-12-23 & 4033195 & 4907439 & 272637837\\\\\n",
       "\\end{tabular}\n"
      ],
      "text/markdown": [
       "\n",
       "A data.frame: 6 × 10\n",
       "\n",
       "| <!--/--> | Jurisdiction &lt;chr&gt; | Age Group &lt;chr&gt; | Year &lt;dbl&gt; | Week &lt;dbl&gt; | Number of Deaths &lt;dbl&gt; | Type &lt;chr&gt; | Date &lt;date&gt; | Population &lt;dbl&gt; | Population_all_ages &lt;dbl&gt; | Population_age_group_nation &lt;dbl&gt; |\n",
       "|---|---|---|---|---|---|---|---|---|---|---|\n",
       "| 1 | Alabama | &lt;65 | 2018 | 37 | 285.3385 | Predicted | 2018-09-16 | 4033195 | 4907439 | 272637837 |\n",
       "| 2 | Alabama | &lt;65 | 2018 | 38 | 288.3385 | Predicted | 2018-09-23 | 4033195 | 4907439 | 272637837 |\n",
       "| 3 | Alabama | &lt;65 | 2018 | 35 | 288.1385 | Predicted | 2018-09-02 | 4033195 | 4907439 | 272637837 |\n",
       "| 4 | Alabama | &lt;65 | 2018 | 36 | 288.1385 | Predicted | 2018-09-09 | 4033195 | 4907439 | 272637837 |\n",
       "| 5 | Alabama | &lt;65 | 2018 | 50 | 311.9385 | Predicted | 2018-12-16 | 4033195 | 4907439 | 272637837 |\n",
       "| 6 | Alabama | &lt;65 | 2018 | 51 | 320.3385 | Predicted | 2018-12-23 | 4033195 | 4907439 | 272637837 |\n",
       "\n"
      ],
      "text/plain": [
       "  Jurisdiction Age Group Year Week Number of Deaths Type      Date      \n",
       "1 Alabama      <65       2018 37   285.3385         Predicted 2018-09-16\n",
       "2 Alabama      <65       2018 38   288.3385         Predicted 2018-09-23\n",
       "3 Alabama      <65       2018 35   288.1385         Predicted 2018-09-02\n",
       "4 Alabama      <65       2018 36   288.1385         Predicted 2018-09-09\n",
       "5 Alabama      <65       2018 50   311.9385         Predicted 2018-12-16\n",
       "6 Alabama      <65       2018 51   320.3385         Predicted 2018-12-23\n",
       "  Population Population_all_ages Population_age_group_nation\n",
       "1 4033195    4907439             272637837                  \n",
       "2 4033195    4907439             272637837                  \n",
       "3 4033195    4907439             272637837                  \n",
       "4 4033195    4907439             272637837                  \n",
       "5 4033195    4907439             272637837                  \n",
       "6 4033195    4907439             272637837                  "
      ]
     },
     "metadata": {},
     "output_type": "display_data"
    }
   ],
   "source": [
    "df_pop1 <- read_csv(\"data/tidy_pop_age_state.csv\", show_col_types = FALSE)\n",
    "\n",
    "df_pop2 <- \n",
    "  df_pop1%>%\n",
    "  group_by(Jurisdiction)%>%\n",
    "  summarise(Population_all_ages = sum(Population))\n",
    "\n",
    "df_pop3 <- \n",
    "  df_pop1%>%\n",
    "  filter(Jurisdiction==\"United States\")%>%\n",
    "  rename(Population_age_group_nation = Population)%>%\n",
    "  select(-Jurisdiction)\n",
    "\n",
    "df_pop <- \n",
    "  df_pop1%>%\n",
    "  merge(df_pop2)%>%\n",
    "  merge(df_pop3)\n",
    "\n",
    "df2 <- merge(df, df_pop)\n",
    "write_rds(df2, \"data/us_excess_deaths_per_age_group.rds\")\n",
    "head(df2)"
   ]
  }
 ],
 "metadata": {
  "kernelspec": {
   "display_name": "R",
   "language": "R",
   "name": "ir"
  },
  "language_info": {
   "codemirror_mode": "r",
   "file_extension": ".r",
   "mimetype": "text/x-r-source",
   "name": "R",
   "pygments_lexer": "r",
   "version": "4.1.3"
  },
  "varInspector": {
   "cols": {
    "lenName": 16,
    "lenType": 16,
    "lenVar": 40
   },
   "kernels_config": {
    "python": {
     "delete_cmd_postfix": "",
     "delete_cmd_prefix": "del ",
     "library": "var_list.py",
     "varRefreshCmd": "print(var_dic_list())"
    },
    "r": {
     "delete_cmd_postfix": ") ",
     "delete_cmd_prefix": "rm(",
     "library": "var_list.r",
     "varRefreshCmd": "cat(var_dic_list()) "
    }
   },
   "types_to_exclude": [
    "module",
    "function",
    "builtin_function_or_method",
    "instance",
    "_Feature"
   ],
   "window_display": false
  }
 },
 "nbformat": 4,
 "nbformat_minor": 2
}
